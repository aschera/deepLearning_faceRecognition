{
 "cells": [
  {
   "cell_type": "markdown",
   "metadata": {},
   "source": [
    "# Deep learning project\n",
    "\n",
    "## Kunskapskontroll 2\n",
    "\n",
    "### Detecting emotion on images or video of human faces."
   ]
  },
  {
   "cell_type": "markdown",
   "metadata": {},
   "source": [
    "To start with we use the following dataset from Kaggle:\n",
    "\n",
    "'Face expression recognition dataset'\n",
    "\n",
    "LINK:\n",
    "https://www.kaggle.com/datasets/jonathanoheix/face-expression-recognition-dataset"
   ]
  },
  {
   "cell_type": "markdown",
   "metadata": {},
   "source": [
    "Supplemental dataset from :\n",
    "    \n",
    "http://mmlab.ie.cuhk.edu.hk/projects/socialrelation/index.html"
   ]
  },
  {
   "cell_type": "markdown",
   "metadata": {},
   "source": [
    "The project is based on the example from this Github: https://github.com/akmadan/Emotion_Detection_CNN\n",
    " and the Youtube video: https://www.youtube.com/watch?v=Bb4Wvl57LIk"
   ]
  },
  {
   "cell_type": "markdown",
   "metadata": {},
   "source": [
    "## Importing libraries"
   ]
  },
  {
   "cell_type": "code",
   "execution_count": 1,
   "metadata": {
    "tags": []
   },
   "outputs": [
    {
     "name": "stdout",
     "output_type": "stream",
     "text": [
      "Requirement already satisfied: keras in c:\\users\\asche\\appdata\\roaming\\python\\python39\\site-packages (2.13.1)\n",
      "Note: you may need to restart the kernel to use updated packages.\n"
     ]
    }
   ],
   "source": [
    "pip install keras"
   ]
  },
  {
   "cell_type": "code",
   "execution_count": 2,
   "metadata": {
    "tags": []
   },
   "outputs": [
    {
     "name": "stdout",
     "output_type": "stream",
     "text": [
      "Requirement already satisfied: tensorflow in c:\\users\\asche\\appdata\\roaming\\python\\python39\\site-packages (2.13.0)\n",
      "Requirement already satisfied: tensorflow-intel==2.13.0 in c:\\users\\asche\\appdata\\roaming\\python\\python39\\site-packages (from tensorflow) (2.13.0)\n",
      "Requirement already satisfied: absl-py>=1.0.0 in c:\\users\\asche\\appdata\\roaming\\python\\python39\\site-packages (from tensorflow-intel==2.13.0->tensorflow) (2.0.0)\n",
      "Requirement already satisfied: astunparse>=1.6.0 in c:\\users\\asche\\appdata\\roaming\\python\\python39\\site-packages (from tensorflow-intel==2.13.0->tensorflow) (1.6.3)\n",
      "Requirement already satisfied: flatbuffers>=23.1.21 in c:\\users\\asche\\anaconda3\\envs\\tf-gpu\\lib\\site-packages (from tensorflow-intel==2.13.0->tensorflow) (23.5.26)\n",
      "Requirement already satisfied: gast<=0.4.0,>=0.2.1 in c:\\users\\asche\\appdata\\roaming\\python\\python39\\site-packages (from tensorflow-intel==2.13.0->tensorflow) (0.4.0)\n",
      "Requirement already satisfied: google-pasta>=0.1.1 in c:\\users\\asche\\appdata\\roaming\\python\\python39\\site-packages (from tensorflow-intel==2.13.0->tensorflow) (0.2.0)\n",
      "Requirement already satisfied: h5py>=2.9.0 in c:\\users\\asche\\appdata\\roaming\\python\\python39\\site-packages (from tensorflow-intel==2.13.0->tensorflow) (3.9.0)\n",
      "Requirement already satisfied: libclang>=13.0.0 in c:\\users\\asche\\anaconda3\\envs\\tf-gpu\\lib\\site-packages (from tensorflow-intel==2.13.0->tensorflow) (16.0.6)\n",
      "Requirement already satisfied: numpy<=1.24.3,>=1.22 in c:\\users\\asche\\anaconda3\\envs\\tf-gpu\\lib\\site-packages (from tensorflow-intel==2.13.0->tensorflow) (1.24.3)\n",
      "Requirement already satisfied: opt-einsum>=2.3.2 in c:\\users\\asche\\appdata\\roaming\\python\\python39\\site-packages (from tensorflow-intel==2.13.0->tensorflow) (3.3.0)\n",
      "Requirement already satisfied: packaging in c:\\users\\asche\\anaconda3\\envs\\tf-gpu\\lib\\site-packages (from tensorflow-intel==2.13.0->tensorflow) (23.1)\n",
      "Requirement already satisfied: protobuf!=4.21.0,!=4.21.1,!=4.21.2,!=4.21.3,!=4.21.4,!=4.21.5,<5.0.0dev,>=3.20.3 in c:\\users\\asche\\anaconda3\\envs\\tf-gpu\\lib\\site-packages (from tensorflow-intel==2.13.0->tensorflow) (4.24.3)\n",
      "Requirement already satisfied: setuptools in c:\\users\\asche\\anaconda3\\envs\\tf-gpu\\lib\\site-packages (from tensorflow-intel==2.13.0->tensorflow) (68.0.0)\n",
      "Requirement already satisfied: six>=1.12.0 in c:\\users\\asche\\anaconda3\\envs\\tf-gpu\\lib\\site-packages (from tensorflow-intel==2.13.0->tensorflow) (1.16.0)\n",
      "Requirement already satisfied: termcolor>=1.1.0 in c:\\users\\asche\\anaconda3\\envs\\tf-gpu\\lib\\site-packages (from tensorflow-intel==2.13.0->tensorflow) (2.3.0)\n",
      "Requirement already satisfied: typing-extensions<4.6.0,>=3.6.6 in c:\\users\\asche\\anaconda3\\envs\\tf-gpu\\lib\\site-packages (from tensorflow-intel==2.13.0->tensorflow) (4.5.0)\n",
      "Requirement already satisfied: wrapt>=1.11.0 in c:\\users\\asche\\anaconda3\\envs\\tf-gpu\\lib\\site-packages (from tensorflow-intel==2.13.0->tensorflow) (1.15.0)\n",
      "Requirement already satisfied: grpcio<2.0,>=1.24.3 in c:\\users\\asche\\appdata\\roaming\\python\\python39\\site-packages (from tensorflow-intel==2.13.0->tensorflow) (1.58.0)\n",
      "Requirement already satisfied: tensorboard<2.14,>=2.13 in c:\\users\\asche\\appdata\\roaming\\python\\python39\\site-packages (from tensorflow-intel==2.13.0->tensorflow) (2.13.0)\n",
      "Requirement already satisfied: tensorflow-estimator<2.14,>=2.13.0 in c:\\users\\asche\\anaconda3\\envs\\tf-gpu\\lib\\site-packages (from tensorflow-intel==2.13.0->tensorflow) (2.13.0)\n",
      "Requirement already satisfied: keras<2.14,>=2.13.1 in c:\\users\\asche\\appdata\\roaming\\python\\python39\\site-packages (from tensorflow-intel==2.13.0->tensorflow) (2.13.1)\n",
      "Requirement already satisfied: tensorflow-io-gcs-filesystem>=0.23.1 in c:\\users\\asche\\anaconda3\\envs\\tf-gpu\\lib\\site-packages (from tensorflow-intel==2.13.0->tensorflow) (0.31.0)\n",
      "Requirement already satisfied: wheel<1.0,>=0.23.0 in c:\\users\\asche\\anaconda3\\envs\\tf-gpu\\lib\\site-packages (from astunparse>=1.6.0->tensorflow-intel==2.13.0->tensorflow) (0.38.4)\n",
      "Requirement already satisfied: google-auth<3,>=1.6.3 in c:\\users\\asche\\appdata\\roaming\\python\\python39\\site-packages (from tensorboard<2.14,>=2.13->tensorflow-intel==2.13.0->tensorflow) (2.23.0)\n",
      "Requirement already satisfied: google-auth-oauthlib<1.1,>=0.5 in c:\\users\\asche\\appdata\\roaming\\python\\python39\\site-packages (from tensorboard<2.14,>=2.13->tensorflow-intel==2.13.0->tensorflow) (1.0.0)\n",
      "Requirement already satisfied: markdown>=2.6.8 in c:\\users\\asche\\appdata\\roaming\\python\\python39\\site-packages (from tensorboard<2.14,>=2.13->tensorflow-intel==2.13.0->tensorflow) (3.4.4)\n",
      "Requirement already satisfied: requests<3,>=2.21.0 in c:\\users\\asche\\anaconda3\\envs\\tf-gpu\\lib\\site-packages (from tensorboard<2.14,>=2.13->tensorflow-intel==2.13.0->tensorflow) (2.31.0)\n",
      "Requirement already satisfied: tensorboard-data-server<0.8.0,>=0.7.0 in c:\\users\\asche\\anaconda3\\envs\\tf-gpu\\lib\\site-packages (from tensorboard<2.14,>=2.13->tensorflow-intel==2.13.0->tensorflow) (0.7.1)\n",
      "Requirement already satisfied: werkzeug>=1.0.1 in c:\\users\\asche\\anaconda3\\envs\\tf-gpu\\lib\\site-packages (from tensorboard<2.14,>=2.13->tensorflow-intel==2.13.0->tensorflow) (2.3.7)\n",
      "Requirement already satisfied: cachetools<6.0,>=2.0.0 in c:\\users\\asche\\appdata\\roaming\\python\\python39\\site-packages (from google-auth<3,>=1.6.3->tensorboard<2.14,>=2.13->tensorflow-intel==2.13.0->tensorflow) (5.3.1)\n",
      "Requirement already satisfied: pyasn1-modules>=0.2.1 in c:\\users\\asche\\appdata\\roaming\\python\\python39\\site-packages (from google-auth<3,>=1.6.3->tensorboard<2.14,>=2.13->tensorflow-intel==2.13.0->tensorflow) (0.3.0)\n",
      "Requirement already satisfied: rsa<5,>=3.1.4 in c:\\users\\asche\\appdata\\roaming\\python\\python39\\site-packages (from google-auth<3,>=1.6.3->tensorboard<2.14,>=2.13->tensorflow-intel==2.13.0->tensorflow) (4.9)\n",
      "Requirement already satisfied: urllib3<2.0 in c:\\users\\asche\\anaconda3\\envs\\tf-gpu\\lib\\site-packages (from google-auth<3,>=1.6.3->tensorboard<2.14,>=2.13->tensorflow-intel==2.13.0->tensorflow) (1.26.16)\n",
      "Requirement already satisfied: requests-oauthlib>=0.7.0 in c:\\users\\asche\\appdata\\roaming\\python\\python39\\site-packages (from google-auth-oauthlib<1.1,>=0.5->tensorboard<2.14,>=2.13->tensorflow-intel==2.13.0->tensorflow) (1.3.1)\n",
      "Requirement already satisfied: importlib-metadata>=4.4 in c:\\users\\asche\\anaconda3\\envs\\tf-gpu\\lib\\site-packages (from markdown>=2.6.8->tensorboard<2.14,>=2.13->tensorflow-intel==2.13.0->tensorflow) (6.0.0)\n",
      "Requirement already satisfied: charset-normalizer<4,>=2 in c:\\users\\asche\\anaconda3\\envs\\tf-gpu\\lib\\site-packages (from requests<3,>=2.21.0->tensorboard<2.14,>=2.13->tensorflow-intel==2.13.0->tensorflow) (2.0.4)\n",
      "Requirement already satisfied: idna<4,>=2.5 in c:\\users\\asche\\anaconda3\\envs\\tf-gpu\\lib\\site-packages (from requests<3,>=2.21.0->tensorboard<2.14,>=2.13->tensorflow-intel==2.13.0->tensorflow) (3.4)\n",
      "Requirement already satisfied: certifi>=2017.4.17 in c:\\users\\asche\\anaconda3\\envs\\tf-gpu\\lib\\site-packages (from requests<3,>=2.21.0->tensorboard<2.14,>=2.13->tensorflow-intel==2.13.0->tensorflow) (2023.7.22)\n",
      "Requirement already satisfied: MarkupSafe>=2.1.1 in c:\\users\\asche\\anaconda3\\envs\\tf-gpu\\lib\\site-packages (from werkzeug>=1.0.1->tensorboard<2.14,>=2.13->tensorflow-intel==2.13.0->tensorflow) (2.1.1)\n",
      "Requirement already satisfied: zipp>=0.5 in c:\\users\\asche\\anaconda3\\envs\\tf-gpu\\lib\\site-packages (from importlib-metadata>=4.4->markdown>=2.6.8->tensorboard<2.14,>=2.13->tensorflow-intel==2.13.0->tensorflow) (3.11.0)\n",
      "Requirement already satisfied: pyasn1<0.6.0,>=0.4.6 in c:\\users\\asche\\anaconda3\\envs\\tf-gpu\\lib\\site-packages (from pyasn1-modules>=0.2.1->google-auth<3,>=1.6.3->tensorboard<2.14,>=2.13->tensorflow-intel==2.13.0->tensorflow) (0.5.0)\n",
      "Requirement already satisfied: oauthlib>=3.0.0 in c:\\users\\asche\\anaconda3\\envs\\tf-gpu\\lib\\site-packages (from requests-oauthlib>=0.7.0->google-auth-oauthlib<1.1,>=0.5->tensorboard<2.14,>=2.13->tensorflow-intel==2.13.0->tensorflow) (3.2.2)\n",
      "Note: you may need to restart the kernel to use updated packages.\n"
     ]
    }
   ],
   "source": [
    "pip install tensorflow"
   ]
  },
  {
   "cell_type": "code",
   "execution_count": 3,
   "metadata": {
    "tags": []
   },
   "outputs": [],
   "source": [
    "import matplotlib.pyplot as plt\n",
    "import numpy as np\n",
    "import pandas as pd\n",
    "\n",
    "import os\n",
    "import itertools\n",
    "from collections import defaultdict\n",
    "\n",
    "# Importing Deep Learning Libraries\n",
    "import tensorflow as tf\n",
    "from tensorflow.keras.callbacks import ModelCheckpoint\n",
    "from tensorflow.keras.models import Sequential\n",
    "from tensorflow.keras.utils import img_to_array,  load_img\n",
    "\n",
    "from keras.optimizers import Adam, SGD, RMSprop\n",
    "from keras.callbacks import ModelCheckpoint, EarlyStopping, ReduceLROnPlateau\n",
    "from keras.preprocessing.image import ImageDataGenerator \n",
    "from keras.layers import Dense, Input, Dropout, GlobalAveragePooling2D, Flatten, Conv2D, BatchNormalization, Activation, MaxPooling2D\n",
    "from keras.models import Model,Sequential\n",
    "\n",
    "\n"
   ]
  },
  {
   "cell_type": "code",
   "execution_count": 4,
   "metadata": {
    "tags": []
   },
   "outputs": [],
   "source": [
    "seed = 42"
   ]
  },
  {
   "cell_type": "code",
   "execution_count": 5,
   "metadata": {
    "tags": []
   },
   "outputs": [],
   "source": [
    "# size of the images\n",
    "picture_size = 48"
   ]
  },
  {
   "cell_type": "code",
   "execution_count": 6,
   "metadata": {
    "tags": []
   },
   "outputs": [],
   "source": [
    "# path to the image folder\n",
    "folder_path = \"content/\""
   ]
  },
  {
   "cell_type": "code",
   "execution_count": 7,
   "metadata": {
    "tags": []
   },
   "outputs": [
    {
     "data": {
      "image/png": "[encoded data removed]",
      "text/plain": [
       "<Figure size 400x400 with 9 Axes>"
      ]
     },
     "metadata": {},
     "output_type": "display_data"
    }
   ],
   "source": [
    "expression = 'disgust'\n",
    "\n",
    "plt.figure(figsize= (4,4))\n",
    "for i in range(1, 10, 1):\n",
    "    plt.subplot(3,3,i)\n",
    "    img = load_img(folder_path+\"train/\"+expression+\"/\"+\n",
    "                  os.listdir(folder_path + \"train/\" + expression)[i], target_size=(picture_size, picture_size))\n",
    "    plt.imshow(img)   \n",
    "plt.show()"
   ]
  },
  {
   "cell_type": "markdown",
   "metadata": {},
   "source": [
    "## Making Training and Validation Data"
   ]
  },
  {
   "cell_type": "code",
   "execution_count": 24,
   "metadata": {
    "tags": []
   },
   "outputs": [],
   "source": [
    "batch_size = 64"
   ]
  },
  {
   "cell_type": "code",
   "execution_count": 25,
   "metadata": {
    "tags": []
   },
   "outputs": [],
   "source": [
    "expressions = ['Angry', 'Disgust', 'Fear', 'Happy', 'Neutral', 'Sad', 'Surprise']"
   ]
  },
  {
   "cell_type": "markdown",
   "metadata": {},
   "source": [
    "### We need to make training and validation sets. and make sure images are proper size etc."
   ]
  },
  {
   "cell_type": "markdown",
   "metadata": {
    "tags": []
   },
   "source": [
    "80% of the images for training and 20% for validation."
   ]
  },
  {
   "cell_type": "code",
   "execution_count": 26,
   "metadata": {
    "tags": []
   },
   "outputs": [],
   "source": [
    "import numpy as np\n",
    "\n",
    "# Function to preprocess an image (convert to grayscale and rescale)\n",
    "def preprocess_image(image, label):\n",
    "    # Convert image to grayscale\n",
    "    gray_image = tf.image.rgb_to_grayscale(image)\n",
    "    # Rescale pixel values to be between 0 and 1\n",
    "    gray_image /= 255.0\n",
    "    return gray_image, label"
   ]
  },
  {
   "cell_type": "code",
   "execution_count": 27,
   "metadata": {
    "tags": []
   },
   "outputs": [],
   "source": [
    "# Define a generator function to load and preprocess the data\n",
    "def data_generator(dataset, preprocess_fn):\n",
    "    for image_batch, label_batch in dataset:\n",
    "        yield preprocess_fn(image_batch, label_batch)\n",
    "\n",
    "# Load the dataset without preprocessing\n",
    "datagen = tf.keras.preprocessing.image.ImageDataGenerator(\n",
    "    validation_split=0.2,\n",
    "    rescale=1./255\n",
    ")"
   ]
  },
  {
   "cell_type": "code",
   "execution_count": 28,
   "metadata": {
    "tags": []
   },
   "outputs": [
    {
     "name": "stdout",
     "output_type": "stream",
     "text": [
      "Found 23060 images belonging to 7 classes.\n"
     ]
    }
   ],
   "source": [
    "train_ds = datagen.flow_from_directory(\n",
    "    folder_path + \"train\",\n",
    "    target_size=(picture_size, picture_size),\n",
    "    batch_size=batch_size,\n",
    "    class_mode='categorical',\n",
    "    subset='training'\n",
    ")"
   ]
  },
  {
   "cell_type": "code",
   "execution_count": 29,
   "metadata": {
    "tags": []
   },
   "outputs": [
    {
     "name": "stdout",
     "output_type": "stream",
     "text": [
      "Found 5761 images belonging to 7 classes.\n"
     ]
    }
   ],
   "source": [
    "val_ds = datagen.flow_from_directory(\n",
    "    folder_path + \"train\",\n",
    "    target_size=(picture_size, picture_size),\n",
    "    batch_size=batch_size,\n",
    "    class_mode='categorical',\n",
    "    subset='validation'\n",
    ")"
   ]
  },
  {
   "cell_type": "code",
   "execution_count": 40,
   "metadata": {
    "tags": []
   },
   "outputs": [
    {
     "name": "stdout",
     "output_type": "stream",
     "text": [
      "Limited Train Dataset Size: 500\n",
      "Limited Validation Dataset Size: 500\n"
     ]
    }
   ],
   "source": [
    "# Function to limit the dataset size\n",
    "def limit_dataset(dataset, limit):\n",
    "    return dataset.take(limit)\n",
    "\n",
    "# Define the desired dataset size\n",
    "desired_dataset_size = 500\n",
    "\n",
    "# Create limited datasets with the desired size\n",
    "limited_train_dataset = limit_dataset(train_dataset, desired_dataset_size)\n",
    "limited_val_dataset = limit_dataset(val_dataset, desired_dataset_size)"
   ]
  },
  {
   "cell_type": "code",
   "execution_count": 42,
   "metadata": {
    "tags": []
   },
   "outputs": [
    {
     "name": "stdout",
     "output_type": "stream",
     "text": [
      "Limited Train Dataset Size: 500\n",
      "Limited Validation Dataset Size: 500\n"
     ]
    }
   ],
   "source": [
    "# Function to count the elements in a dataset\n",
    "def count_elements(dataset):\n",
    "    count = 0\n",
    "    for _ in dataset:\n",
    "        count += 1\n",
    "    return count\n",
    "\n",
    "# Print the sizes of the limited datasets\n",
    "print(\"Limited Train Dataset Size:\", count_elements(limited_train_dataset))\n",
    "print(\"Limited Validation Dataset Size:\", count_elements(limited_val_dataset))\n"
   ]
  },
  {
   "cell_type": "code",
   "execution_count": 43,
   "metadata": {
    "tags": []
   },
   "outputs": [
    {
     "name": "stdout",
     "output_type": "stream",
     "text": [
      "Shapes of tensors in the Limited Train Dataset:\n",
      "Image batch shape: (64, 48, 48, 1)\n",
      "Labels batch shape: (64, 7)\n",
      "\n",
      "Shapes of tensors in the Limited Validation Dataset:\n",
      "Image batch shape: (1, 48, 48, 1)\n",
      "Labels batch shape: (1, 7)\n"
     ]
    }
   ],
   "source": [
    "# Function to print the shape of the tensors in a dataset\n",
    "def print_tensor_shapes(dataset):\n",
    "    for image_batch, labels_batch in dataset.take(1):\n",
    "        print(\"Image batch shape:\", image_batch.shape)\n",
    "        print(\"Labels batch shape:\", labels_batch.shape)\n",
    "\n",
    "# Print the shapes of the tensors in the limited datasets\n",
    "print(\"Shapes of tensors in the Limited Train Dataset:\")\n",
    "print_tensor_shapes(limited_train_dataset)\n",
    "\n",
    "print(\"\\nShapes of tensors in the Limited Validation Dataset:\")\n",
    "print_tensor_shapes(limited_val_dataset)"
   ]
  },
  {
   "cell_type": "markdown",
   "metadata": {},
   "source": [
    "#### The image_batch is a tensor of the shape (32, 48, 48, 1).\n",
    "\n",
    "This is a batch of 64 images of shape 48x48x3 (the last dimension refers to color channels greyscale). \n",
    "\n",
    "The label_batch is a tensor of the shape (32, 7), these are corresponding 7 labels to the 32 images."
   ]
  },
  {
   "cell_type": "code",
   "execution_count": 44,
   "metadata": {
    "tags": []
   },
   "outputs": [
    {
     "name": "stdout",
     "output_type": "stream",
     "text": [
      "['angry', 'disgust', 'fear', 'happy', 'neutral', 'sad', 'surprise']\n"
     ]
    }
   ],
   "source": [
    "class_names = list(train_ds.class_indices.keys())\n",
    "print(class_names)\n"
   ]
  },
  {
   "cell_type": "markdown",
   "metadata": {},
   "source": [
    "## Model Building\n",
    "\n",
    "### First model."
   ]
  },
  {
   "cell_type": "code",
   "execution_count": 45,
   "metadata": {
    "tags": []
   },
   "outputs": [
    {
     "name": "stdout",
     "output_type": "stream",
     "text": [
      "Model: \"sequential_2\"\n",
      "_________________________________________________________________\n",
      " Layer (type)                Output Shape              Param #   \n",
      "=================================================================\n",
      " conv2d_8 (Conv2D)           (None, 48, 48, 64)        640       \n",
      "                                                                 \n",
      " batch_normalization_12 (Ba  (None, 48, 48, 64)        256       \n",
      " tchNormalization)                                               \n",
      "                                                                 \n",
      " activation_12 (Activation)  (None, 48, 48, 64)        0         \n",
      "                                                                 \n",
      " max_pooling2d_8 (MaxPoolin  (None, 24, 24, 64)        0         \n",
      " g2D)                                                            \n",
      "                                                                 \n",
      " dropout_12 (Dropout)        (None, 24, 24, 64)        0         \n",
      "                                                                 \n",
      " conv2d_9 (Conv2D)           (None, 24, 24, 128)       204928    \n",
      "                                                                 \n",
      " batch_normalization_13 (Ba  (None, 24, 24, 128)       512       \n",
      " tchNormalization)                                               \n",
      "                                                                 \n",
      " activation_13 (Activation)  (None, 24, 24, 128)       0         \n",
      "                                                                 \n",
      " max_pooling2d_9 (MaxPoolin  (None, 12, 12, 128)       0         \n",
      " g2D)                                                            \n",
      "                                                                 \n",
      " dropout_13 (Dropout)        (None, 12, 12, 128)       0         \n",
      "                                                                 \n",
      " conv2d_10 (Conv2D)          (None, 12, 12, 512)       590336    \n",
      "                                                                 \n",
      " batch_normalization_14 (Ba  (None, 12, 12, 512)       2048      \n",
      " tchNormalization)                                               \n",
      "                                                                 \n",
      " activation_14 (Activation)  (None, 12, 12, 512)       0         \n",
      "                                                                 \n",
      " max_pooling2d_10 (MaxPooli  (None, 6, 6, 512)         0         \n",
      " ng2D)                                                           \n",
      "                                                                 \n",
      " dropout_14 (Dropout)        (None, 6, 6, 512)         0         \n",
      "                                                                 \n",
      " conv2d_11 (Conv2D)          (None, 6, 6, 512)         2359808   \n",
      "                                                                 \n",
      " batch_normalization_15 (Ba  (None, 6, 6, 512)         2048      \n",
      " tchNormalization)                                               \n",
      "                                                                 \n",
      " activation_15 (Activation)  (None, 6, 6, 512)         0         \n",
      "                                                                 \n",
      " max_pooling2d_11 (MaxPooli  (None, 3, 3, 512)         0         \n",
      " ng2D)                                                           \n",
      "                                                                 \n",
      " dropout_15 (Dropout)        (None, 3, 3, 512)         0         \n",
      "                                                                 \n",
      " flatten_2 (Flatten)         (None, 4608)              0         \n",
      "                                                                 \n",
      " dense_6 (Dense)             (None, 256)               1179904   \n",
      "                                                                 \n",
      " batch_normalization_16 (Ba  (None, 256)               1024      \n",
      " tchNormalization)                                               \n",
      "                                                                 \n",
      " activation_16 (Activation)  (None, 256)               0         \n",
      "                                                                 \n",
      " dropout_16 (Dropout)        (None, 256)               0         \n",
      "                                                                 \n",
      " dense_7 (Dense)             (None, 512)               131584    \n",
      "                                                                 \n",
      " batch_normalization_17 (Ba  (None, 512)               2048      \n",
      " tchNormalization)                                               \n",
      "                                                                 \n",
      " activation_17 (Activation)  (None, 512)               0         \n",
      "                                                                 \n",
      " dropout_17 (Dropout)        (None, 512)               0         \n",
      "                                                                 \n",
      " dense_8 (Dense)             (None, 7)                 3591      \n",
      "                                                                 \n",
      "=================================================================\n",
      "Total params: 4478727 (17.08 MB)\n",
      "Trainable params: 4474759 (17.07 MB)\n",
      "Non-trainable params: 3968 (15.50 KB)\n",
      "_________________________________________________________________\n"
     ]
    }
   ],
   "source": [
    "\n",
    "no_of_classes = 7\n",
    "\n",
    "model = Sequential()\n",
    "\n",
    "#1st CNN layer\n",
    "model.add(Conv2D(64,(3,3),padding = 'same',input_shape = (48,48,1)))\n",
    "model.add(BatchNormalization())\n",
    "model.add(Activation('relu'))\n",
    "model.add(MaxPooling2D(pool_size = (2,2)))\n",
    "model.add(Dropout(0.25))\n",
    "\n",
    "#2nd CNN layer\n",
    "model.add(Conv2D(128,(5,5),padding = 'same'))\n",
    "model.add(BatchNormalization())\n",
    "model.add(Activation('relu'))\n",
    "model.add(MaxPooling2D(pool_size = (2,2)))\n",
    "model.add(Dropout (0.25))\n",
    "\n",
    "#3rd CNN layer\n",
    "model.add(Conv2D(512,(3,3),padding = 'same'))\n",
    "model.add(BatchNormalization())\n",
    "model.add(Activation('relu'))\n",
    "model.add(MaxPooling2D(pool_size = (2,2)))\n",
    "model.add(Dropout (0.25))\n",
    "\n",
    "#4th CNN layer\n",
    "model.add(Conv2D(512,(3,3), padding='same'))\n",
    "model.add(BatchNormalization())\n",
    "model.add(Activation('relu'))\n",
    "model.add(MaxPooling2D(pool_size=(2, 2)))\n",
    "model.add(Dropout(0.25))\n",
    "\n",
    "model.add(Flatten())\n",
    "\n",
    "#Fully connected 1st layer\n",
    "model.add(Dense(256))\n",
    "model.add(BatchNormalization())\n",
    "model.add(Activation('relu'))\n",
    "model.add(Dropout(0.25))\n",
    "\n",
    "\n",
    "# Fully connected layer 2nd layer\n",
    "model.add(Dense(512))\n",
    "model.add(BatchNormalization())\n",
    "model.add(Activation('relu'))\n",
    "model.add(Dropout(0.25))\n",
    "\n",
    "model.add(Dense(no_of_classes, activation='softmax'))\n",
    "\n",
    "\n",
    "\n",
    "opt = Adam(learning_rate = 0.0001)\n",
    "model.compile(optimizer=opt,loss='categorical_crossentropy', metrics=['accuracy'])\n",
    "model.summary()"
   ]
  },
  {
   "cell_type": "markdown",
   "metadata": {
    "tags": []
   },
   "source": [
    "## Fitting the Model with Training and Validation Data"
   ]
  },
  {
   "cell_type": "code",
   "execution_count": 46,
   "metadata": {
    "tags": []
   },
   "outputs": [],
   "source": [
    "epochs = 48"
   ]
  },
  {
   "cell_type": "code",
   "execution_count": 47,
   "metadata": {
    "tags": []
   },
   "outputs": [],
   "source": [
    "checkpoint = ModelCheckpoint(\"./model.h5\", monitor='val_acc', verbose=1, save_best_only=True, mode='max')\n",
    "\n",
    "early_stopping = EarlyStopping(monitor='val_loss',\n",
    "                          min_delta=0,\n",
    "                          patience=3,\n",
    "                          verbose=1,\n",
    "                          restore_best_weights=True\n",
    "                          )\n",
    "\n",
    "reduce_learningrate = ReduceLROnPlateau(monitor='val_loss',\n",
    "                              factor=0.2,\n",
    "                              patience=3,\n",
    "                              verbose=1,\n",
    "                              min_delta=0.0001)\n",
    "\n",
    "callbacks_list = [early_stopping,checkpoint,reduce_learningrate]\n",
    "\n",
    "model.compile(loss='categorical_crossentropy',\n",
    "              optimizer = Adam(learning_rate=0.001),\n",
    "              metrics=['accuracy'])"
   ]
  },
  {
   "cell_type": "code",
   "execution_count": 48,
   "metadata": {
    "tags": []
   },
   "outputs": [
    {
     "name": "stdout",
     "output_type": "stream",
     "text": [
      "Image batch shape: (64, 48, 48, 1)\n",
      "Labels batch shape: (64, 7)\n"
     ]
    }
   ],
   "source": [
    "for image_batch, labels_batch in train_dataset.take(1):\n",
    "    print(\"Image batch shape:\", image_batch.shape)\n",
    "    print(\"Labels batch shape:\", labels_batch.shape)\n"
   ]
  },
  {
   "cell_type": "code",
   "execution_count": 49,
   "metadata": {
    "tags": []
   },
   "outputs": [],
   "source": [
    "model.compile(run_eagerly=True, optimizer=opt, loss='categorical_crossentropy', metrics=['accuracy'])\n"
   ]
  },
  {
   "cell_type": "code",
   "execution_count": 55,
   "metadata": {
    "tags": []
   },
   "outputs": [
    {
     "name": "stdout",
     "output_type": "stream",
     "text": [
      "Epoch 1/48\n",
      "    500/Unknown - 385s 769ms/step - loss: 1.9817 - accuracy: 0.2373WARNING:tensorflow:Can save best model only with val_acc available, skipping.\n",
      "500/500 [==============================] - 385s 769ms/step - loss: 1.9817 - accuracy: 0.2373\n",
      "Epoch 2/48\n",
      "500/500 [==============================] - ETA: 0s - loss: 1.7981 - accuracy: 0.3028WARNING:tensorflow:Can save best model only with val_acc available, skipping.\n",
      "500/500 [==============================] - 384s 768ms/step - loss: 1.7981 - accuracy: 0.3028\n",
      "Epoch 3/48\n",
      "500/500 [==============================] - ETA: 0s - loss: 1.6626 - accuracy: 0.3582WARNING:tensorflow:Can save best model only with val_acc available, skipping.\n",
      "500/500 [==============================] - 383s 767ms/step - loss: 1.6626 - accuracy: 0.3582\n",
      "Epoch 4/48\n",
      "500/500 [==============================] - ETA: 0s - loss: 1.5564 - accuracy: 0.4028WARNING:tensorflow:Can save best model only with val_acc available, skipping.\n",
      "500/500 [==============================] - 386s 772ms/step - loss: 1.5564 - accuracy: 0.4028\n",
      "Epoch 5/48\n",
      "500/500 [==============================] - ETA: 0s - loss: 1.4757 - accuracy: 0.4342WARNING:tensorflow:Can save best model only with val_acc available, skipping.\n",
      "500/500 [==============================] - 386s 773ms/step - loss: 1.4757 - accuracy: 0.4342\n",
      "Epoch 6/48\n",
      "500/500 [==============================] - ETA: 0s - loss: 1.4046 - accuracy: 0.4625WARNING:tensorflow:Can save best model only with val_acc available, skipping.\n",
      "500/500 [==============================] - 385s 771ms/step - loss: 1.4046 - accuracy: 0.4625\n",
      "Epoch 7/48\n",
      "500/500 [==============================] - ETA: 0s - loss: 1.3353 - accuracy: 0.4888WARNING:tensorflow:Can save best model only with val_acc available, skipping.\n",
      "500/500 [==============================] - 391s 781ms/step - loss: 1.3353 - accuracy: 0.4888\n",
      "Epoch 8/48\n",
      "500/500 [==============================] - ETA: 0s - loss: 1.2856 - accuracy: 0.5082WARNING:tensorflow:Can save best model only with val_acc available, skipping.\n",
      "500/500 [==============================] - 382s 765ms/step - loss: 1.2856 - accuracy: 0.5082\n",
      "Epoch 9/48\n",
      "500/500 [==============================] - ETA: 0s - loss: 1.2309 - accuracy: 0.5289WARNING:tensorflow:Can save best model only with val_acc available, skipping.\n",
      "500/500 [==============================] - 376s 752ms/step - loss: 1.2309 - accuracy: 0.5289\n",
      "Epoch 10/48\n",
      "500/500 [==============================] - ETA: 0s - loss: 1.2043 - accuracy: 0.5391WARNING:tensorflow:Can save best model only with val_acc available, skipping.\n",
      "500/500 [==============================] - 377s 754ms/step - loss: 1.2043 - accuracy: 0.5391\n",
      "Epoch 11/48\n",
      "500/500 [==============================] - ETA: 0s - loss: 1.1613 - accuracy: 0.5587WARNING:tensorflow:Can save best model only with val_acc available, skipping.\n",
      "500/500 [==============================] - 375s 750ms/step - loss: 1.1613 - accuracy: 0.5587\n",
      "Epoch 12/48\n",
      "500/500 [==============================] - ETA: 0s - loss: 1.1288 - accuracy: 0.5704WARNING:tensorflow:Can save best model only with val_acc available, skipping.\n",
      "500/500 [==============================] - 375s 751ms/step - loss: 1.1288 - accuracy: 0.5704\n",
      "Epoch 13/48\n",
      "500/500 [==============================] - ETA: 0s - loss: 1.1022 - accuracy: 0.5817WARNING:tensorflow:Can save best model only with val_acc available, skipping.\n",
      "500/500 [==============================] - 375s 750ms/step - loss: 1.1022 - accuracy: 0.5817\n",
      "Epoch 14/48\n",
      "500/500 [==============================] - ETA: 0s - loss: 1.0596 - accuracy: 0.5993WARNING:tensorflow:Can save best model only with val_acc available, skipping.\n",
      "500/500 [==============================] - 377s 755ms/step - loss: 1.0596 - accuracy: 0.5993\n",
      "Epoch 15/48\n",
      "500/500 [==============================] - ETA: 0s - loss: 1.0324 - accuracy: 0.6110WARNING:tensorflow:Can save best model only with val_acc available, skipping.\n",
      "500/500 [==============================] - 377s 755ms/step - loss: 1.0324 - accuracy: 0.6110\n",
      "Epoch 16/48\n",
      "500/500 [==============================] - ETA: 0s - loss: 1.0059 - accuracy: 0.6188WARNING:tensorflow:Can save best model only with val_acc available, skipping.\n",
      "500/500 [==============================] - 377s 754ms/step - loss: 1.0059 - accuracy: 0.6188\n",
      "Epoch 17/48\n",
      "500/500 [==============================] - ETA: 0s - loss: 0.9703 - accuracy: 0.6337WARNING:tensorflow:Can save best model only with val_acc available, skipping.\n",
      "500/500 [==============================] - 377s 755ms/step - loss: 0.9703 - accuracy: 0.6337\n",
      "Epoch 18/48\n",
      "500/500 [==============================] - ETA: 0s - loss: 0.9368 - accuracy: 0.6442WARNING:tensorflow:Can save best model only with val_acc available, skipping.\n",
      "500/500 [==============================] - 396s 792ms/step - loss: 0.9368 - accuracy: 0.6442\n",
      "Epoch 19/48\n",
      "500/500 [==============================] - ETA: 0s - loss: 0.9147 - accuracy: 0.6509WARNING:tensorflow:Can save best model only with val_acc available, skipping.\n",
      "500/500 [==============================] - 379s 758ms/step - loss: 0.9147 - accuracy: 0.6509\n",
      "Epoch 20/48\n",
      "500/500 [==============================] - ETA: 0s - loss: 0.8797 - accuracy: 0.6695WARNING:tensorflow:Can save best model only with val_acc available, skipping.\n",
      "500/500 [==============================] - 382s 763ms/step - loss: 0.8797 - accuracy: 0.6695\n",
      "Epoch 21/48\n",
      "500/500 [==============================] - ETA: 0s - loss: 0.8603 - accuracy: 0.6731WARNING:tensorflow:Can save best model only with val_acc available, skipping.\n",
      "500/500 [==============================] - 406s 811ms/step - loss: 0.8603 - accuracy: 0.6731\n",
      "Epoch 22/48\n",
      "500/500 [==============================] - ETA: 0s - loss: 0.8212 - accuracy: 0.6919WARNING:tensorflow:Can save best model only with val_acc available, skipping.\n",
      "500/500 [==============================] - 385s 770ms/step - loss: 0.8212 - accuracy: 0.6919\n",
      "Epoch 23/48\n",
      "500/500 [==============================] - ETA: 0s - loss: 0.7928 - accuracy: 0.7022WARNING:tensorflow:Can save best model only with val_acc available, skipping.\n",
      "500/500 [==============================] - 399s 798ms/step - loss: 0.7928 - accuracy: 0.7022\n",
      "Epoch 24/48\n",
      "500/500 [==============================] - ETA: 0s - loss: 0.7744 - accuracy: 0.7105WARNING:tensorflow:Can save best model only with val_acc available, skipping.\n",
      "500/500 [==============================] - 384s 768ms/step - loss: 0.7744 - accuracy: 0.7105\n",
      "Epoch 25/48\n",
      "500/500 [==============================] - ETA: 0s - loss: 0.7298 - accuracy: 0.7277WARNING:tensorflow:Can save best model only with val_acc available, skipping.\n",
      "500/500 [==============================] - 383s 767ms/step - loss: 0.7298 - accuracy: 0.7277\n",
      "Epoch 26/48\n",
      "500/500 [==============================] - ETA: 0s - loss: 0.7178 - accuracy: 0.7303WARNING:tensorflow:Can save best model only with val_acc available, skipping.\n",
      "500/500 [==============================] - 384s 768ms/step - loss: 0.7178 - accuracy: 0.7303\n",
      "Epoch 27/48\n",
      "500/500 [==============================] - ETA: 0s - loss: 0.6910 - accuracy: 0.7404WARNING:tensorflow:Can save best model only with val_acc available, skipping.\n",
      "500/500 [==============================] - 384s 767ms/step - loss: 0.6910 - accuracy: 0.7404\n",
      "Epoch 28/48\n",
      "500/500 [==============================] - ETA: 0s - loss: 0.6596 - accuracy: 0.7533WARNING:tensorflow:Can save best model only with val_acc available, skipping.\n",
      "500/500 [==============================] - 384s 768ms/step - loss: 0.6596 - accuracy: 0.7533\n",
      "Epoch 29/48\n",
      "500/500 [==============================] - ETA: 0s - loss: 0.6394 - accuracy: 0.7627WARNING:tensorflow:Can save best model only with val_acc available, skipping.\n",
      "500/500 [==============================] - 378s 755ms/step - loss: 0.6394 - accuracy: 0.7627\n",
      "Epoch 30/48\n",
      "500/500 [==============================] - ETA: 0s - loss: 0.6085 - accuracy: 0.7740WARNING:tensorflow:Can save best model only with val_acc available, skipping.\n",
      "500/500 [==============================] - 378s 757ms/step - loss: 0.6085 - accuracy: 0.7740\n",
      "Epoch 31/48\n",
      "500/500 [==============================] - ETA: 0s - loss: 0.5898 - accuracy: 0.7811WARNING:tensorflow:Can save best model only with val_acc available, skipping.\n",
      "500/500 [==============================] - 378s 755ms/step - loss: 0.5898 - accuracy: 0.7811\n",
      "Epoch 32/48\n",
      "500/500 [==============================] - ETA: 0s - loss: 0.5749 - accuracy: 0.7891WARNING:tensorflow:Can save best model only with val_acc available, skipping.\n",
      "500/500 [==============================] - 380s 759ms/step - loss: 0.5749 - accuracy: 0.7891\n",
      "Epoch 33/48\n",
      "500/500 [==============================] - ETA: 0s - loss: 0.5423 - accuracy: 0.7974WARNING:tensorflow:Can save best model only with val_acc available, skipping.\n",
      "500/500 [==============================] - 389s 778ms/step - loss: 0.5423 - accuracy: 0.7974\n",
      "Epoch 34/48\n",
      "500/500 [==============================] - ETA: 0s - loss: 0.5276 - accuracy: 0.8055WARNING:tensorflow:Can save best model only with val_acc available, skipping.\n",
      "500/500 [==============================] - 377s 753ms/step - loss: 0.5276 - accuracy: 0.8055\n",
      "Epoch 35/48\n",
      "500/500 [==============================] - ETA: 0s - loss: 0.5112 - accuracy: 0.8104WARNING:tensorflow:Can save best model only with val_acc available, skipping.\n",
      "500/500 [==============================] - 381s 763ms/step - loss: 0.5112 - accuracy: 0.8104\n",
      "Epoch 36/48\n",
      "500/500 [==============================] - ETA: 0s - loss: 0.4862 - accuracy: 0.8183WARNING:tensorflow:Can save best model only with val_acc available, skipping.\n",
      "500/500 [==============================] - 377s 754ms/step - loss: 0.4862 - accuracy: 0.8183\n",
      "Epoch 37/48\n",
      "500/500 [==============================] - ETA: 0s - loss: 0.4793 - accuracy: 0.8240WARNING:tensorflow:Can save best model only with val_acc available, skipping.\n",
      "500/500 [==============================] - 378s 755ms/step - loss: 0.4793 - accuracy: 0.8240\n",
      "Epoch 38/48\n",
      "500/500 [==============================] - ETA: 0s - loss: 0.4430 - accuracy: 0.8376WARNING:tensorflow:Can save best model only with val_acc available, skipping.\n",
      "500/500 [==============================] - 379s 758ms/step - loss: 0.4430 - accuracy: 0.8376\n",
      "Epoch 39/48\n",
      "500/500 [==============================] - ETA: 0s - loss: 0.4353 - accuracy: 0.8398WARNING:tensorflow:Can save best model only with val_acc available, skipping.\n",
      "500/500 [==============================] - 379s 758ms/step - loss: 0.4353 - accuracy: 0.8398\n",
      "Epoch 40/48\n",
      "500/500 [==============================] - ETA: 0s - loss: 0.4230 - accuracy: 0.8438WARNING:tensorflow:Can save best model only with val_acc available, skipping.\n",
      "500/500 [==============================] - 379s 757ms/step - loss: 0.4230 - accuracy: 0.8438\n",
      "Epoch 41/48\n",
      "500/500 [==============================] - ETA: 0s - loss: 0.4044 - accuracy: 0.8519WARNING:tensorflow:Can save best model only with val_acc available, skipping.\n",
      "500/500 [==============================] - 377s 754ms/step - loss: 0.4044 - accuracy: 0.8519\n",
      "Epoch 42/48\n",
      "500/500 [==============================] - ETA: 0s - loss: 0.3964 - accuracy: 0.8551WARNING:tensorflow:Can save best model only with val_acc available, skipping.\n",
      "500/500 [==============================] - 378s 756ms/step - loss: 0.3964 - accuracy: 0.8551\n",
      "Epoch 43/48\n",
      "500/500 [==============================] - ETA: 0s - loss: 0.3746 - accuracy: 0.8640WARNING:tensorflow:Can save best model only with val_acc available, skipping.\n",
      "500/500 [==============================] - 392s 784ms/step - loss: 0.3746 - accuracy: 0.8640\n",
      "Epoch 44/48\n",
      "500/500 [==============================] - ETA: 0s - loss: 0.3671 - accuracy: 0.8642WARNING:tensorflow:Can save best model only with val_acc available, skipping.\n",
      "500/500 [==============================] - 391s 783ms/step - loss: 0.3671 - accuracy: 0.8642\n",
      "Epoch 45/48\n",
      "500/500 [==============================] - ETA: 0s - loss: 0.3605 - accuracy: 0.8672WARNING:tensorflow:Can save best model only with val_acc available, skipping.\n",
      "500/500 [==============================] - 390s 780ms/step - loss: 0.3605 - accuracy: 0.8672\n",
      "Epoch 46/48\n",
      "500/500 [==============================] - ETA: 0s - loss: 0.3310 - accuracy: 0.8801WARNING:tensorflow:Can save best model only with val_acc available, skipping.\n",
      "500/500 [==============================] - 391s 781ms/step - loss: 0.3310 - accuracy: 0.8801\n",
      "Epoch 47/48\n",
      "500/500 [==============================] - ETA: 0s - loss: 0.3255 - accuracy: 0.8826WARNING:tensorflow:Can save best model only with val_acc available, skipping.\n",
      "500/500 [==============================] - 389s 777ms/step - loss: 0.3255 - accuracy: 0.8826\n",
      "Epoch 48/48\n",
      "500/500 [==============================] - ETA: 0s - loss: 0.3186 - accuracy: 0.8837WARNING:tensorflow:Can save best model only with val_acc available, skipping.\n",
      "500/500 [==============================] - 390s 780ms/step - loss: 0.3186 - accuracy: 0.8837\n"
     ]
    }
   ],
   "source": [
    "# Train the model using fit with generators\n",
    "history = model.fit(\n",
    "    limited_train_dataset,\n",
    "    epochs=epochs,\n",
    "    validation_data=limited_val_dataset,\n",
    "    validation_steps=validation_steps,\n",
    "    callbacks=[checkpoint]\n",
    ")"
   ]
  },
  {
   "cell_type": "markdown",
   "metadata": {},
   "source": [
    "## Plotting Accuracy & Loss"
   ]
  },
  {
   "cell_type": "code",
   "execution_count": 59,
   "metadata": {
    "tags": []
   },
   "outputs": [
    {
     "data": {
      "image/png": "[encoded data removed]",
      "text/plain": [
       "<Figure size 2000x1000 with 1 Axes>"
      ]
     },
     "metadata": {},
     "output_type": "display_data"
    }
   ],
   "source": [
    "plt.figure(figsize=(20,10))\n",
    "plt.subplot(1, 2, 2)\n",
    "plt.ylabel('Accuracy', fontsize=16)\n",
    "plt.plot(history.history['accuracy'], label='Training Accuracy')\n",
    "plt.legend(loc='lower right')\n",
    "plt.show()"
   ]
  },
  {
   "cell_type": "markdown",
   "metadata": {
    "tags": []
   },
   "source": [
    "## second model\n",
    "Using a pre-trained model ontop of our own"
   ]
  },
  {
   "cell_type": "code",
   "execution_count": 62,
   "metadata": {
    "tags": []
   },
   "outputs": [],
   "source": [
    "from tensorflow.keras.applications import VGG16\n",
    "\n",
    "model_VGG16 = VGG16(weights='imagenet', include_top=False, input_shape=(32, 32, 3))\n"
   ]
  },
  {
   "cell_type": "markdown",
   "metadata": {},
   "source": [
    "### model ensemble"
   ]
  },
  {
   "cell_type": "code",
   "execution_count": 63,
   "metadata": {
    "tags": []
   },
   "outputs": [
    {
     "name": "stdout",
     "output_type": "stream",
     "text": [
      "Model: \"model\"\n",
      "__________________________________________________________________________________________________\n",
      " Layer (type)                Output Shape                 Param #   Connected to                  \n",
      "==================================================================================================\n",
      " conv2d_8_input (InputLayer  [(None, 48, 48, 1)]          0         []                            \n",
      " )                                                                                                \n",
      "                                                                                                  \n",
      " conv2d_8 (Conv2D)           (None, 48, 48, 64)           640       ['conv2d_8_input[0][0]']      \n",
      "                                                                                                  \n",
      " batch_normalization_12 (Ba  (None, 48, 48, 64)           256       ['conv2d_8[0][0]']            \n",
      " tchNormalization)                                                                                \n",
      "                                                                                                  \n",
      " activation_12 (Activation)  (None, 48, 48, 64)           0         ['batch_normalization_12[0][0]\n",
      "                                                                    ']                            \n",
      "                                                                                                  \n",
      " max_pooling2d_8 (MaxPoolin  (None, 24, 24, 64)           0         ['activation_12[0][0]']       \n",
      " g2D)                                                                                             \n",
      "                                                                                                  \n",
      " dropout_12 (Dropout)        (None, 24, 24, 64)           0         ['max_pooling2d_8[0][0]']     \n",
      "                                                                                                  \n",
      " conv2d_9 (Conv2D)           (None, 24, 24, 128)          204928    ['dropout_12[0][0]']          \n",
      "                                                                                                  \n",
      " batch_normalization_13 (Ba  (None, 24, 24, 128)          512       ['conv2d_9[0][0]']            \n",
      " tchNormalization)                                                                                \n",
      "                                                                                                  \n",
      " activation_13 (Activation)  (None, 24, 24, 128)          0         ['batch_normalization_13[0][0]\n",
      "                                                                    ']                            \n",
      "                                                                                                  \n",
      " max_pooling2d_9 (MaxPoolin  (None, 12, 12, 128)          0         ['activation_13[0][0]']       \n",
      " g2D)                                                                                             \n",
      "                                                                                                  \n",
      " dropout_13 (Dropout)        (None, 12, 12, 128)          0         ['max_pooling2d_9[0][0]']     \n",
      "                                                                                                  \n",
      " conv2d_10 (Conv2D)          (None, 12, 12, 512)          590336    ['dropout_13[0][0]']          \n",
      "                                                                                                  \n",
      " input_1 (InputLayer)        [(None, 32, 32, 3)]          0         []                            \n",
      "                                                                                                  \n",
      " batch_normalization_14 (Ba  (None, 12, 12, 512)          2048      ['conv2d_10[0][0]']           \n",
      " tchNormalization)                                                                                \n",
      "                                                                                                  \n",
      " block1_conv1 (Conv2D)       (None, 32, 32, 64)           1792      ['input_1[0][0]']             \n",
      "                                                                                                  \n",
      " activation_14 (Activation)  (None, 12, 12, 512)          0         ['batch_normalization_14[0][0]\n",
      "                                                                    ']                            \n",
      "                                                                                                  \n",
      " block1_conv2 (Conv2D)       (None, 32, 32, 64)           36928     ['block1_conv1[0][0]']        \n",
      "                                                                                                  \n",
      " max_pooling2d_10 (MaxPooli  (None, 6, 6, 512)            0         ['activation_14[0][0]']       \n",
      " ng2D)                                                                                            \n",
      "                                                                                                  \n",
      " block1_pool (MaxPooling2D)  (None, 16, 16, 64)           0         ['block1_conv2[0][0]']        \n",
      "                                                                                                  \n",
      " dropout_14 (Dropout)        (None, 6, 6, 512)            0         ['max_pooling2d_10[0][0]']    \n",
      "                                                                                                  \n",
      " block2_conv1 (Conv2D)       (None, 16, 16, 128)          73856     ['block1_pool[0][0]']         \n",
      "                                                                                                  \n",
      " conv2d_11 (Conv2D)          (None, 6, 6, 512)            2359808   ['dropout_14[0][0]']          \n",
      "                                                                                                  \n",
      " block2_conv2 (Conv2D)       (None, 16, 16, 128)          147584    ['block2_conv1[0][0]']        \n",
      "                                                                                                  \n",
      " batch_normalization_15 (Ba  (None, 6, 6, 512)            2048      ['conv2d_11[0][0]']           \n",
      " tchNormalization)                                                                                \n",
      "                                                                                                  \n",
      " block2_pool (MaxPooling2D)  (None, 8, 8, 128)            0         ['block2_conv2[0][0]']        \n",
      "                                                                                                  \n",
      " activation_15 (Activation)  (None, 6, 6, 512)            0         ['batch_normalization_15[0][0]\n",
      "                                                                    ']                            \n",
      "                                                                                                  \n",
      " block3_conv1 (Conv2D)       (None, 8, 8, 256)            295168    ['block2_pool[0][0]']         \n",
      "                                                                                                  \n",
      " max_pooling2d_11 (MaxPooli  (None, 3, 3, 512)            0         ['activation_15[0][0]']       \n",
      " ng2D)                                                                                            \n",
      "                                                                                                  \n",
      " block3_conv2 (Conv2D)       (None, 8, 8, 256)            590080    ['block3_conv1[0][0]']        \n",
      "                                                                                                  \n",
      " dropout_15 (Dropout)        (None, 3, 3, 512)            0         ['max_pooling2d_11[0][0]']    \n",
      "                                                                                                  \n",
      " block3_conv3 (Conv2D)       (None, 8, 8, 256)            590080    ['block3_conv2[0][0]']        \n",
      "                                                                                                  \n",
      " flatten_2 (Flatten)         (None, 4608)                 0         ['dropout_15[0][0]']          \n",
      "                                                                                                  \n",
      " block3_pool (MaxPooling2D)  (None, 4, 4, 256)            0         ['block3_conv3[0][0]']        \n",
      "                                                                                                  \n",
      " dense_6 (Dense)             (None, 256)                  1179904   ['flatten_2[0][0]']           \n",
      "                                                                                                  \n",
      " block4_conv1 (Conv2D)       (None, 4, 4, 512)            1180160   ['block3_pool[0][0]']         \n",
      "                                                                                                  \n",
      " batch_normalization_16 (Ba  (None, 256)                  1024      ['dense_6[0][0]']             \n",
      " tchNormalization)                                                                                \n",
      "                                                                                                  \n",
      " block4_conv2 (Conv2D)       (None, 4, 4, 512)            2359808   ['block4_conv1[0][0]']        \n",
      "                                                                                                  \n",
      " activation_16 (Activation)  (None, 256)                  0         ['batch_normalization_16[0][0]\n",
      "                                                                    ']                            \n",
      "                                                                                                  \n",
      " block4_conv3 (Conv2D)       (None, 4, 4, 512)            2359808   ['block4_conv2[0][0]']        \n",
      "                                                                                                  \n",
      " dropout_16 (Dropout)        (None, 256)                  0         ['activation_16[0][0]']       \n",
      "                                                                                                  \n",
      " block4_pool (MaxPooling2D)  (None, 2, 2, 512)            0         ['block4_conv3[0][0]']        \n",
      "                                                                                                  \n",
      " dense_7 (Dense)             (None, 512)                  131584    ['dropout_16[0][0]']          \n",
      "                                                                                                  \n",
      " block5_conv1 (Conv2D)       (None, 2, 2, 512)            2359808   ['block4_pool[0][0]']         \n",
      "                                                                                                  \n",
      " batch_normalization_17 (Ba  (None, 512)                  2048      ['dense_7[0][0]']             \n",
      " tchNormalization)                                                                                \n",
      "                                                                                                  \n",
      " block5_conv2 (Conv2D)       (None, 2, 2, 512)            2359808   ['block5_conv1[0][0]']        \n",
      "                                                                                                  \n",
      " activation_17 (Activation)  (None, 512)                  0         ['batch_normalization_17[0][0]\n",
      "                                                                    ']                            \n",
      "                                                                                                  \n",
      " block5_conv3 (Conv2D)       (None, 2, 2, 512)            2359808   ['block5_conv2[0][0]']        \n",
      "                                                                                                  \n",
      " dropout_17 (Dropout)        (None, 512)                  0         ['activation_17[0][0]']       \n",
      "                                                                                                  \n",
      " block5_pool (MaxPooling2D)  (None, 1, 1, 512)            0         ['block5_conv3[0][0]']        \n",
      "                                                                                                  \n",
      " dense_8 (Dense)             (None, 7)                    3591      ['dropout_17[0][0]']          \n",
      "                                                                                                  \n",
      " flatten_3 (Flatten)         (None, 512)                  0         ['block5_pool[0][0]']         \n",
      "                                                                                                  \n",
      " concatenate (Concatenate)   (None, 519)                  0         ['dense_8[0][0]',             \n",
      "                                                                     'flatten_3[0][0]']           \n",
      "                                                                                                  \n",
      " dense_9 (Dense)             (None, 7)                    3640      ['concatenate[0][0]']         \n",
      "                                                                                                  \n",
      "==================================================================================================\n",
      "Total params: 19197055 (73.23 MB)\n",
      "Trainable params: 19193087 (73.22 MB)\n",
      "Non-trainable params: 3968 (15.50 KB)\n",
      "__________________________________________________________________________________________________\n"
     ]
    }
   ],
   "source": [
    "from tensorflow.keras.models import Model\n",
    "from tensorflow.keras.layers import Concatenate, Dense, Flatten, Reshape\n",
    "\n",
    "# Assume you have model (your custom model) and model_VGG16 (VGG16 without top layer)\n",
    "\n",
    "# Flatten the VGG16 output to a 2D tensor\n",
    "flattened_vgg16_output = Flatten()(model_VGG16.output)\n",
    "\n",
    "# Concatenate features from your custom model and VGG16\n",
    "concatenated_features = Concatenate()([model.output, flattened_vgg16_output])\n",
    "\n",
    "# Add a classifier on top of concatenated features\n",
    "output = Dense(7, activation='softmax')(concatenated_features)  # Assuming 7 emotion classes\n",
    "\n",
    "# Create the new model\n",
    "merged_model = Model(inputs=[model.input, model_VGG16.input], outputs=output)\n",
    "\n",
    "# Compile the model\n",
    "merged_model.compile(optimizer='adam', loss='categorical_crossentropy', metrics=['accuracy'])\n",
    "\n",
    "# Print the model summary\n",
    "merged_model.summary()"
   ]
  },
  {
   "cell_type": "code",
   "execution_count": 64,
   "metadata": {
    "tags": []
   },
   "outputs": [
    {
     "name": "stdout",
     "output_type": "stream",
     "text": [
      "(64, 48, 48, 1)\n",
      "(64, 7)\n"
     ]
    }
   ],
   "source": [
    "# Print the shapes to confirm preprocessing\n",
    "for image_batch, labels_batch in train_dataset.take(1):\n",
    "    print(image_batch.shape)\n",
    "    print(labels_batch.shape)"
   ]
  },
  {
   "cell_type": "code",
   "execution_count": null,
   "metadata": {
    "tags": []
   },
   "outputs": [],
   "source": [
    "# Assuming you have prepared your datasets 'train_dataset' and 'val_dataset'\n",
    "\n",
    "# Adjust the input shape in the dataset\n",
    "train_dataset = train_dataset.map(lambda x, y: (tf.expand_dims(x, axis=-1), y))\n",
    "val_dataset = val_dataset.map(lambda x, y: (tf.expand_dims(x, axis=-1), y))\n",
    "\n",
    "# Fit the model\n",
    "history = merged_model.fit(\n",
    "    train_dataset,\n",
    "    epochs=30,\n",
    "    validation_data=val_dataset,\n",
    ")\n",
    "\n",
    "# Evaluate the model\n",
    "loss, accuracy = merged_model.evaluate(val_dataset)\n",
    "print(\"Validation Loss:\", loss)\n",
    "print(\"Validation Accuracy:\", accuracy)"
   ]
  },
  {
   "cell_type": "code",
   "execution_count": null,
   "metadata": {},
   "outputs": [],
   "source": []
  }
 ],
 "metadata": {
  "accelerator": "GPU",
  "colab": {
   "name": "Emotion_Detection.ipynb",
   "provenance": []
  },
  "kernelspec": {
   "display_name": "Python 3 (ipykernel)",
   "language": "python",
   "name": "python3"
  },
  "language_info": {
   "codemirror_mode": {
    "name": "ipython",
    "version": 3
   },
   "file_extension": ".py",
   "mimetype": "text/x-python",
   "name": "python",
   "nbconvert_exporter": "python",
   "pygments_lexer": "ipython3",
   "version": "3.11.4"
  }
 },
 "nbformat": 4,
 "nbformat_minor": 4
}

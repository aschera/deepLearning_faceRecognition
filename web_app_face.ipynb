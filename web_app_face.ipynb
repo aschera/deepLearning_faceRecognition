{
 "cells": [
  {
   "cell_type": "code",
   "execution_count": 1,
   "id": "be2420e3-d6ca-4fad-bc68-e0772743be90",
   "metadata": {},
   "outputs": [
    {
     "name": "stdout",
     "output_type": "stream",
     "text": [
      "Requirement already satisfied: opencv-python in c:\\users\\asche\\anaconda3\\envs\\tf-gpu\\lib\\site-packages (4.8.0.76)\n",
      "Requirement already satisfied: numpy>=1.17.0 in c:\\users\\asche\\anaconda3\\envs\\tf-gpu\\lib\\site-packages (from opencv-python) (1.23.5)\n",
      "Note: you may need to restart the kernel to use updated packages.\n"
     ]
    }
   ],
   "source": [
    "pip install opencv-python"
   ]
  },
  {
   "cell_type": "code",
   "execution_count": 2,
   "id": "56755d46-8ae5-4d13-8733-756e58449641",
   "metadata": {},
   "outputs": [
    {
     "name": "stdout",
     "output_type": "stream",
     "text": [
      "Requirement already satisfied: tensorflow in c:\\users\\asche\\appdata\\roaming\\python\\python39\\site-packages (2.13.0)\n",
      "Requirement already satisfied: tensorflow-intel==2.13.0 in c:\\users\\asche\\appdata\\roaming\\python\\python39\\site-packages (from tensorflow) (2.13.0)\n",
      "Requirement already satisfied: absl-py>=1.0.0 in c:\\users\\asche\\appdata\\roaming\\python\\python39\\site-packages (from tensorflow-intel==2.13.0->tensorflow) (2.0.0)\n",
      "Requirement already satisfied: astunparse>=1.6.0 in c:\\users\\asche\\appdata\\roaming\\python\\python39\\site-packages (from tensorflow-intel==2.13.0->tensorflow) (1.6.3)\n",
      "Requirement already satisfied: flatbuffers>=23.1.21 in c:\\users\\asche\\anaconda3\\envs\\tf-gpu\\lib\\site-packages (from tensorflow-intel==2.13.0->tensorflow) (23.5.26)\n",
      "Requirement already satisfied: gast<=0.4.0,>=0.2.1 in c:\\users\\asche\\appdata\\roaming\\python\\python39\\site-packages (from tensorflow-intel==2.13.0->tensorflow) (0.4.0)\n",
      "Requirement already satisfied: google-pasta>=0.1.1 in c:\\users\\asche\\appdata\\roaming\\python\\python39\\site-packages (from tensorflow-intel==2.13.0->tensorflow) (0.2.0)\n",
      "Requirement already satisfied: h5py>=2.9.0 in c:\\users\\asche\\appdata\\roaming\\python\\python39\\site-packages (from tensorflow-intel==2.13.0->tensorflow) (3.9.0)\n",
      "Requirement already satisfied: libclang>=13.0.0 in c:\\users\\asche\\anaconda3\\envs\\tf-gpu\\lib\\site-packages (from tensorflow-intel==2.13.0->tensorflow) (16.0.6)\n",
      "Requirement already satisfied: numpy<=1.24.3,>=1.22 in c:\\users\\asche\\anaconda3\\envs\\tf-gpu\\lib\\site-packages (from tensorflow-intel==2.13.0->tensorflow) (1.23.5)\n",
      "Requirement already satisfied: opt-einsum>=2.3.2 in c:\\users\\asche\\appdata\\roaming\\python\\python39\\site-packages (from tensorflow-intel==2.13.0->tensorflow) (3.3.0)\n",
      "Requirement already satisfied: packaging in c:\\users\\asche\\anaconda3\\envs\\tf-gpu\\lib\\site-packages (from tensorflow-intel==2.13.0->tensorflow) (23.1)\n",
      "Requirement already satisfied: protobuf!=4.21.0,!=4.21.1,!=4.21.2,!=4.21.3,!=4.21.4,!=4.21.5,<5.0.0dev,>=3.20.3 in c:\\users\\asche\\anaconda3\\envs\\tf-gpu\\lib\\site-packages (from tensorflow-intel==2.13.0->tensorflow) (4.24.3)\n",
      "Requirement already satisfied: setuptools in c:\\users\\asche\\anaconda3\\envs\\tf-gpu\\lib\\site-packages (from tensorflow-intel==2.13.0->tensorflow) (68.2.2)\n",
      "Requirement already satisfied: six>=1.12.0 in c:\\users\\asche\\anaconda3\\envs\\tf-gpu\\lib\\site-packages (from tensorflow-intel==2.13.0->tensorflow) (1.16.0)\n",
      "Requirement already satisfied: termcolor>=1.1.0 in c:\\users\\asche\\anaconda3\\envs\\tf-gpu\\lib\\site-packages (from tensorflow-intel==2.13.0->tensorflow) (2.3.0)\n",
      "Requirement already satisfied: typing-extensions<4.6.0,>=3.6.6 in c:\\users\\asche\\anaconda3\\envs\\tf-gpu\\lib\\site-packages (from tensorflow-intel==2.13.0->tensorflow) (4.5.0)\n",
      "Requirement already satisfied: wrapt>=1.11.0 in c:\\users\\asche\\anaconda3\\envs\\tf-gpu\\lib\\site-packages (from tensorflow-intel==2.13.0->tensorflow) (1.15.0)\n",
      "Requirement already satisfied: grpcio<2.0,>=1.24.3 in c:\\users\\asche\\appdata\\roaming\\python\\python39\\site-packages (from tensorflow-intel==2.13.0->tensorflow) (1.58.0)\n",
      "Requirement already satisfied: tensorboard<2.14,>=2.13 in c:\\users\\asche\\appdata\\roaming\\python\\python39\\site-packages (from tensorflow-intel==2.13.0->tensorflow) (2.13.0)\n",
      "Requirement already satisfied: tensorflow-estimator<2.14,>=2.13.0 in c:\\users\\asche\\anaconda3\\envs\\tf-gpu\\lib\\site-packages (from tensorflow-intel==2.13.0->tensorflow) (2.13.0)\n",
      "Requirement already satisfied: keras<2.14,>=2.13.1 in c:\\users\\asche\\appdata\\roaming\\python\\python39\\site-packages (from tensorflow-intel==2.13.0->tensorflow) (2.13.1)\n",
      "Requirement already satisfied: tensorflow-io-gcs-filesystem>=0.23.1 in c:\\users\\asche\\anaconda3\\envs\\tf-gpu\\lib\\site-packages (from tensorflow-intel==2.13.0->tensorflow) (0.31.0)\n",
      "Requirement already satisfied: wheel<1.0,>=0.23.0 in c:\\users\\asche\\anaconda3\\envs\\tf-gpu\\lib\\site-packages (from astunparse>=1.6.0->tensorflow-intel==2.13.0->tensorflow) (0.38.4)\n",
      "Requirement already satisfied: google-auth<3,>=1.6.3 in c:\\users\\asche\\appdata\\roaming\\python\\python39\\site-packages (from tensorboard<2.14,>=2.13->tensorflow-intel==2.13.0->tensorflow) (2.23.0)\n",
      "Requirement already satisfied: google-auth-oauthlib<1.1,>=0.5 in c:\\users\\asche\\appdata\\roaming\\python\\python39\\site-packages (from tensorboard<2.14,>=2.13->tensorflow-intel==2.13.0->tensorflow) (1.0.0)\n",
      "Requirement already satisfied: markdown>=2.6.8 in c:\\users\\asche\\appdata\\roaming\\python\\python39\\site-packages (from tensorboard<2.14,>=2.13->tensorflow-intel==2.13.0->tensorflow) (3.4.4)\n",
      "Requirement already satisfied: requests<3,>=2.21.0 in c:\\users\\asche\\anaconda3\\envs\\tf-gpu\\lib\\site-packages (from tensorboard<2.14,>=2.13->tensorflow-intel==2.13.0->tensorflow) (2.31.0)\n",
      "Requirement already satisfied: tensorboard-data-server<0.8.0,>=0.7.0 in c:\\users\\asche\\anaconda3\\envs\\tf-gpu\\lib\\site-packages (from tensorboard<2.14,>=2.13->tensorflow-intel==2.13.0->tensorflow) (0.7.1)\n",
      "Requirement already satisfied: werkzeug>=1.0.1 in c:\\users\\asche\\anaconda3\\envs\\tf-gpu\\lib\\site-packages (from tensorboard<2.14,>=2.13->tensorflow-intel==2.13.0->tensorflow) (2.3.7)\n",
      "Requirement already satisfied: cachetools<6.0,>=2.0.0 in c:\\users\\asche\\appdata\\roaming\\python\\python39\\site-packages (from google-auth<3,>=1.6.3->tensorboard<2.14,>=2.13->tensorflow-intel==2.13.0->tensorflow) (5.3.1)\n",
      "Requirement already satisfied: pyasn1-modules>=0.2.1 in c:\\users\\asche\\appdata\\roaming\\python\\python39\\site-packages (from google-auth<3,>=1.6.3->tensorboard<2.14,>=2.13->tensorflow-intel==2.13.0->tensorflow) (0.3.0)\n",
      "Requirement already satisfied: rsa<5,>=3.1.4 in c:\\users\\asche\\appdata\\roaming\\python\\python39\\site-packages (from google-auth<3,>=1.6.3->tensorboard<2.14,>=2.13->tensorflow-intel==2.13.0->tensorflow) (4.9)\n",
      "Requirement already satisfied: urllib3<2.0 in c:\\users\\asche\\anaconda3\\envs\\tf-gpu\\lib\\site-packages (from google-auth<3,>=1.6.3->tensorboard<2.14,>=2.13->tensorflow-intel==2.13.0->tensorflow) (1.26.16)\n",
      "Requirement already satisfied: requests-oauthlib>=0.7.0 in c:\\users\\asche\\appdata\\roaming\\python\\python39\\site-packages (from google-auth-oauthlib<1.1,>=0.5->tensorboard<2.14,>=2.13->tensorflow-intel==2.13.0->tensorflow) (1.3.1)\n",
      "Requirement already satisfied: importlib-metadata>=4.4 in c:\\users\\asche\\anaconda3\\envs\\tf-gpu\\lib\\site-packages (from markdown>=2.6.8->tensorboard<2.14,>=2.13->tensorflow-intel==2.13.0->tensorflow) (6.0.0)\n",
      "Requirement already satisfied: charset-normalizer<4,>=2 in c:\\users\\asche\\anaconda3\\envs\\tf-gpu\\lib\\site-packages (from requests<3,>=2.21.0->tensorboard<2.14,>=2.13->tensorflow-intel==2.13.0->tensorflow) (2.0.4)\n",
      "Requirement already satisfied: idna<4,>=2.5 in c:\\users\\asche\\anaconda3\\envs\\tf-gpu\\lib\\site-packages (from requests<3,>=2.21.0->tensorboard<2.14,>=2.13->tensorflow-intel==2.13.0->tensorflow) (3.4)\n",
      "Requirement already satisfied: certifi>=2017.4.17 in c:\\users\\asche\\anaconda3\\envs\\tf-gpu\\lib\\site-packages (from requests<3,>=2.21.0->tensorboard<2.14,>=2.13->tensorflow-intel==2.13.0->tensorflow) (2022.12.7)\n",
      "Requirement already satisfied: MarkupSafe>=2.1.1 in c:\\users\\asche\\anaconda3\\envs\\tf-gpu\\lib\\site-packages (from werkzeug>=1.0.1->tensorboard<2.14,>=2.13->tensorflow-intel==2.13.0->tensorflow) (2.1.1)\n",
      "Requirement already satisfied: zipp>=0.5 in c:\\users\\asche\\anaconda3\\envs\\tf-gpu\\lib\\site-packages (from importlib-metadata>=4.4->markdown>=2.6.8->tensorboard<2.14,>=2.13->tensorflow-intel==2.13.0->tensorflow) (3.11.0)\n",
      "Requirement already satisfied: pyasn1<0.6.0,>=0.4.6 in c:\\users\\asche\\anaconda3\\envs\\tf-gpu\\lib\\site-packages (from pyasn1-modules>=0.2.1->google-auth<3,>=1.6.3->tensorboard<2.14,>=2.13->tensorflow-intel==2.13.0->tensorflow) (0.5.0)\n",
      "Requirement already satisfied: oauthlib>=3.0.0 in c:\\users\\asche\\anaconda3\\envs\\tf-gpu\\lib\\site-packages (from requests-oauthlib>=0.7.0->google-auth-oauthlib<1.1,>=0.5->tensorboard<2.14,>=2.13->tensorflow-intel==2.13.0->tensorflow) (3.2.2)\n",
      "Note: you may need to restart the kernel to use updated packages.\n"
     ]
    }
   ],
   "source": [
    "pip install tensorflow"
   ]
  },
  {
   "cell_type": "code",
   "execution_count": 3,
   "id": "a929ef36-a13d-4f52-8f2a-8f15a4bf31f2",
   "metadata": {},
   "outputs": [
    {
     "name": "stdout",
     "output_type": "stream",
     "text": [
      "C:\\Users\\asche\\deep_learning\\exam-project\\kunskapskontroll_2\n"
     ]
    }
   ],
   "source": [
    "%cd C:\\Users\\asche\\deep_learning\\exam-project\\kunskapskontroll_2"
   ]
  },
  {
   "cell_type": "code",
   "execution_count": 4,
   "id": "c4031cbf-6283-4b0b-b700-9e347af5f209",
   "metadata": {},
   "outputs": [],
   "source": [
    "from flask import Flask, render_template, request, Response, jsonify\n",
    "import cv2\n",
    "import numpy as np\n",
    "from tensorflow.keras.models import load_model\n",
    "import base64\n",
    "import sys\n",
    "import logging as log\n",
    "import datetime as dt\n",
    "from time import sleep, time"
   ]
  },
  {
   "cell_type": "code",
   "execution_count": 5,
   "id": "d9b8ad1b-c041-4a3b-b67f-1918d34ed411",
   "metadata": {},
   "outputs": [],
   "source": [
    "emotion_labels = ['Angry', 'Disgust', 'Fear', 'Happy', 'Neutral', 'Sad', 'Surprise']\n",
    "emotion_model = load_model('final_model.h5', compile=False)"
   ]
  },
  {
   "cell_type": "markdown",
   "id": "0d39e9d6-9386-4054-b652-d41df71a4153",
   "metadata": {},
   "source": [
    "### Face and emotion detection app which opens a window with the local webcam.\n",
    "Draws a rectangle on detected faces. Writes an emotion text = the predicted emotion."
   ]
  },
  {
   "cell_type": "code",
   "execution_count": 6,
   "id": "7677952a-cf63-44af-87c1-ccd248fbf8aa",
   "metadata": {
    "tags": []
   },
   "outputs": [
    {
     "name": "stdout",
     "output_type": "stream",
     "text": [
      "Video capture started. Select video and press 'q' to stop\n",
      "Number of faces detected: 0\n",
      "Number of faces detected: 0\n",
      "Number of faces detected: 0\n",
      "Number of faces detected: 0\n",
      "Number of faces detected: 0\n",
      "Number of faces detected: 0\n",
      "Number of faces detected: 1\n",
      "1/1 [==============================] - 0s 222ms/step\n",
      "Number of faces detected: 1\n",
      "1/1 [==============================] - 0s 78ms/step\n",
      "Number of faces detected: 1\n",
      "1/1 [==============================] - 0s 79ms/step\n",
      "Number of faces detected: 1\n",
      "1/1 [==============================] - 0s 78ms/step\n",
      "Number of faces detected: 1\n",
      "1/1 [==============================] - 0s 79ms/step\n",
      "Number of faces detected: 1\n",
      "1/1 [==============================] - 0s 80ms/step\n",
      "Number of faces detected: 0\n",
      "Number of faces detected: 0\n",
      "Number of faces detected: 0\n",
      "Number of faces detected: 0\n",
      "Number of faces detected: 0\n"
     ]
    }
   ],
   "source": [
    "cascPath = \"haarcascade_frontalface_default.xml\"\n",
    "faceCascade = cv2.CascadeClassifier(cascPath)\n",
    "log.basicConfig(filename='webcam.log', level=log.INFO)\n",
    "\n",
    "video_capture = cv2.VideoCapture(0)\n",
    "anterior = 0\n",
    "\n",
    "# Set the desired detection interval (in seconds)\n",
    "detection_interval = 0.5\n",
    "\n",
    "last_detection_time = time()\n",
    "print(\"Video capture started. Select video and press 'q' to stop\")\n",
    "\n",
    "while True:\n",
    "    if not video_capture.isOpened():\n",
    "        print('Unable to load camera.')\n",
    "        sleep(5)\n",
    "        continue\n",
    "\n",
    "    current_time = time()\n",
    "    elapsed_time = current_time - last_detection_time\n",
    "\n",
    "    if elapsed_time < detection_interval:\n",
    "        # Wait for the desired interval\n",
    "        sleep(detection_interval - elapsed_time)\n",
    "        continue\n",
    "\n",
    "    ret, frame = video_capture.read()\n",
    "    gray = cv2.cvtColor(frame, cv2.COLOR_BGR2GRAY)\n",
    "\n",
    "    faces = faceCascade.detectMultiScale(\n",
    "        gray,\n",
    "        scaleFactor=1.1,\n",
    "        minNeighbors=5,\n",
    "        minSize=(30, 30)\n",
    "    )\n",
    "\n",
    "    print('Number of faces detected:', len(faces))\n",
    "\n",
    "    # Process only the first detected face (if any)\n",
    "    if len(faces) > 0:\n",
    "        (x, y, w, h) = faces[0]  # Use the first detected face\n",
    "        cv2.rectangle(frame, (x, y), (x + w, y + h), (0, 255, 0), 2)\n",
    "        face_region = gray[y:y + h, x:x + w]\n",
    "\n",
    "        # Convert grayscale image to three channels (RGB)\n",
    "        face_image = cv2.cvtColor(face_region, cv2.COLOR_GRAY2RGB)\n",
    "        _, buffer = cv2.imencode('.jpg', face_image)\n",
    "        face_image_encoded = base64.b64encode(buffer).decode('utf-8')\n",
    "\n",
    "        preprocessed_face = cv2.resize(face_image, (224, 224))\n",
    "        preprocessed_face = np.expand_dims(preprocessed_face, axis=0)  # Add batch dimension\n",
    "        preprocessed_face = np.expand_dims(preprocessed_face, axis=-1)  # Add channel dimension\n",
    "\n",
    "        # Predict the emotion\n",
    "        try:\n",
    "            predicted_emotion = emotion_labels[np.argmax(emotion_model.predict(preprocessed_face))]\n",
    "        except ValueError as e:\n",
    "            print(f\"Error predicting emotion: {e}\")\n",
    "            continue  # Skip this frame if prediction fails\n",
    "\n",
    "        cv2.putText(frame, f'Emotion: {predicted_emotion}', (x, y - 10), cv2.FONT_HERSHEY_SIMPLEX, 0.5, (0, 255, 0), 1)\n",
    "\n",
    "    if anterior != len(faces):\n",
    "        anterior = len(faces)\n",
    "        log.info(\"faces: \" + str(len(faces)) + \" at \" + str(dt.datetime.now()))\n",
    "\n",
    "    cv2.imshow('Video', frame)\n",
    "\n",
    "    last_detection_time = time()  # Update the last detection time\n",
    "\n",
    "    if cv2.waitKey(1) & 0xFF == ord('q'):\n",
    "        break\n",
    "        \n",
    "video_capture.release()\n",
    "cv2.destroyAllWindows()\n",
    "\n",
    "\n"
   ]
  },
  {
   "cell_type": "code",
   "execution_count": 7,
   "id": "2482f690-940e-427a-bec4-134c76f0fb74",
   "metadata": {
    "tags": []
   },
   "outputs": [
    {
     "data": {
      "text/plain": [
       "'\\n\\nfrom flask import Flask, render_template, Response\\nimport cv2\\n\\napp = Flask(__name__)\\n\\nface_cascade = cv2.CascadeClassifier(\\'haarcascade_frontalface_default.xml\\')\\nvideo_capture = cv2.VideoCapture(0)\\n\\ndef detect_faces():\\n    while True:\\n        ret, frame = video_capture.read()\\n\\n        gray = cv2.cvtColor(frame, cv2.COLOR_BGR2GRAY)\\n\\n        faces = face_cascade.detectMultiScale(\\n            gray,\\n            scaleFactor=1.1,\\n            minNeighbors=5,\\n            minSize=(30, 30)\\n        )\\n\\n        for (x, y, w, h) in faces:\\n            # Extract the face region\\n            face = frame[y:y+h, x:x+w]\\n\\n            # Save the face region as an image\\n            face_image = cv2.resize(face, (224, 224))\\n            _, buffer = cv2.imencode(\\'.jpg\\', face_image)\\n            face_image_encoded = base64.b64encode(buffer).decode(\\'utf-8\\')\\n\\n            # Preprocess the face for emotion prediction\\n            preprocessed_face = cv2.resize(face_image, (224, 224))\\n            preprocessed_face = np.expand_dims(preprocessed_face, axis=0)\\n\\n            # Predict the emotion\\n            predicted_emotion = emotion_labels[np.argmax(emotion_model.predict(preprocessed_face))]\\n\\n            # Draw a rectangle around the face\\n            cv2.rectangle(frame, (x, y), (x+w, y+h), (0, 255, 0), 2)\\n\\n            # Display the predicted emotion\\n            cv2.putText(frame, predicted_emotion, (x, y-10), cv2.FONT_HERSHEY_SIMPLEX, 0.9, (36, 255, 12), 2)\\n\\n        _, jpeg = cv2.imencode(\\'.jpg\\', frame)\\n        frame_bytes = jpeg.tobytes()\\n        yield (b\\'--frame\\r\\n\\'\\n               b\\'Content-Type: image/jpeg\\r\\n\\r\\n\\' + frame_bytes + b\\'\\r\\n\\')\\n\\n\\n@app.route(\\'/\\')\\ndef index():\\n    return render_template(\\'index.html\\')\\n\\n@app.route(\\'/video_feed\\')\\ndef video_feed():\\n    return Response(detect_faces(), mimetype=\\'multipart/x-mixed-replace; boundary=frame\\')\\n\\nif __name__ == \"__main__\":\\n    app.run(host=\\'127.0.0.1\\', port=5000, debug=True, use_reloader=False)\\n\\n\\n'"
      ]
     },
     "execution_count": 7,
     "metadata": {},
     "output_type": "execute_result"
    }
   ],
   "source": [
    "'''\n",
    "\n",
    "from flask import Flask, render_template, Response\n",
    "import cv2\n",
    "\n",
    "app = Flask(__name__)\n",
    "\n",
    "face_cascade = cv2.CascadeClassifier('haarcascade_frontalface_default.xml')\n",
    "video_capture = cv2.VideoCapture(0)\n",
    "\n",
    "def detect_faces():\n",
    "    while True:\n",
    "        ret, frame = video_capture.read()\n",
    "\n",
    "        gray = cv2.cvtColor(frame, cv2.COLOR_BGR2GRAY)\n",
    "\n",
    "        faces = face_cascade.detectMultiScale(\n",
    "            gray,\n",
    "            scaleFactor=1.1,\n",
    "            minNeighbors=5,\n",
    "            minSize=(30, 30)\n",
    "        )\n",
    "\n",
    "        for (x, y, w, h) in faces:\n",
    "            # Extract the face region\n",
    "            face = frame[y:y+h, x:x+w]\n",
    "\n",
    "            # Save the face region as an image\n",
    "            face_image = cv2.resize(face, (224, 224))\n",
    "            _, buffer = cv2.imencode('.jpg', face_image)\n",
    "            face_image_encoded = base64.b64encode(buffer).decode('utf-8')\n",
    "\n",
    "            # Preprocess the face for emotion prediction\n",
    "            preprocessed_face = cv2.resize(face_image, (224, 224))\n",
    "            preprocessed_face = np.expand_dims(preprocessed_face, axis=0)\n",
    "\n",
    "            # Predict the emotion\n",
    "            predicted_emotion = emotion_labels[np.argmax(emotion_model.predict(preprocessed_face))]\n",
    "\n",
    "            # Draw a rectangle around the face\n",
    "            cv2.rectangle(frame, (x, y), (x+w, y+h), (0, 255, 0), 2)\n",
    "\n",
    "            # Display the predicted emotion\n",
    "            cv2.putText(frame, predicted_emotion, (x, y-10), cv2.FONT_HERSHEY_SIMPLEX, 0.9, (36, 255, 12), 2)\n",
    "\n",
    "        _, jpeg = cv2.imencode('.jpg', frame)\n",
    "        frame_bytes = jpeg.tobytes()\n",
    "        yield (b'--frame\\r\\n'\n",
    "               b'Content-Type: image/jpeg\\r\\n\\r\\n' + frame_bytes + b'\\r\\n')\n",
    "\n",
    "\n",
    "@app.route('/')\n",
    "def index():\n",
    "    return render_template('index.html')\n",
    "\n",
    "@app.route('/video_feed')\n",
    "def video_feed():\n",
    "    return Response(detect_faces(), mimetype='multipart/x-mixed-replace; boundary=frame')\n",
    "\n",
    "if __name__ == \"__main__\":\n",
    "    app.run(host='127.0.0.1', port=5000, debug=True, use_reloader=False)\n",
    "\n",
    "\n",
    "'''"
   ]
  },
  {
   "cell_type": "code",
   "execution_count": null,
   "id": "a20b098b-91c2-426c-a99d-ef9221152d5a",
   "metadata": {},
   "outputs": [],
   "source": []
  }
 ],
 "metadata": {
  "kernelspec": {
   "display_name": "Python 3 (ipykernel)",
   "language": "python",
   "name": "python3"
  },
  "language_info": {
   "codemirror_mode": {
    "name": "ipython",
    "version": 3
   },
   "file_extension": ".py",
   "mimetype": "text/x-python",
   "name": "python",
   "nbconvert_exporter": "python",
   "pygments_lexer": "ipython3",
   "version": "3.9.18"
  }
 },
 "nbformat": 4,
 "nbformat_minor": 5
}
